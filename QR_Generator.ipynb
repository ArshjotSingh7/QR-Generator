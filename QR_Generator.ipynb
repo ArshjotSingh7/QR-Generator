{
  "nbformat": 4,
  "nbformat_minor": 0,
  "metadata": {
    "colab": {
      "provenance": [],
      "authorship_tag": "ABX9TyPp0yFavaAwRFsbAV2Sleg6",
      "include_colab_link": true
    },
    "kernelspec": {
      "name": "python3",
      "display_name": "Python 3"
    },
    "language_info": {
      "name": "python"
    }
  },
  "cells": [
    {
      "cell_type": "markdown",
      "metadata": {
        "id": "view-in-github",
        "colab_type": "text"
      },
      "source": [
        "<a href=\"https://colab.research.google.com/github/ArshjotSingh7/QR-Generator/blob/main/QR_Generator.ipynb\" target=\"_parent\"><img src=\"https://colab.research.google.com/assets/colab-badge.svg\" alt=\"Open In Colab\"/></a>"
      ]
    },
    {
      "cell_type": "markdown",
      "source": [
        "Installing the libraries"
      ],
      "metadata": {
        "id": "lJyoimLWgdEk"
      }
    },
    {
      "cell_type": "code",
      "execution_count": null,
      "metadata": {
        "colab": {
          "base_uri": "https://localhost:8080/"
        },
        "id": "n1VCEu3Wbz2H",
        "outputId": "2e048528-0cab-4d47-cfdf-1634daf9f2b3"
      },
      "outputs": [
        {
          "output_type": "stream",
          "name": "stdout",
          "text": [
            "Looking in indexes: https://pypi.org/simple, https://us-python.pkg.dev/colab-wheels/public/simple/\n",
            "Collecting qrcode\n",
            "  Downloading qrcode-7.4.2-py3-none-any.whl (46 kB)\n",
            "\u001b[2K     \u001b[90m━━━━━━━━━━━━━━━━━━━━━━━━━━━━━━━━━━━━━━━━\u001b[0m \u001b[32m46.2/46.2 kB\u001b[0m \u001b[31m5.6 MB/s\u001b[0m eta \u001b[36m0:00:00\u001b[0m\n",
            "\u001b[?25hRequirement already satisfied: typing-extensions in /usr/local/lib/python3.10/dist-packages (from qrcode) (4.5.0)\n",
            "Collecting pypng (from qrcode)\n",
            "  Downloading pypng-0.20220715.0-py3-none-any.whl (58 kB)\n",
            "\u001b[2K     \u001b[90m━━━━━━━━━━━━━━━━━━━━━━━━━━━━━━━━━━━━━━━━\u001b[0m \u001b[32m58.1/58.1 kB\u001b[0m \u001b[31m6.9 MB/s\u001b[0m eta \u001b[36m0:00:00\u001b[0m\n",
            "\u001b[?25hInstalling collected packages: pypng, qrcode\n",
            "Successfully installed pypng-0.20220715.0 qrcode-7.4.2\n",
            "Looking in indexes: https://pypi.org/simple, https://us-python.pkg.dev/colab-wheels/public/simple/\n",
            "Requirement already satisfied: pillow in /usr/local/lib/python3.10/dist-packages (8.4.0)\n"
          ]
        }
      ],
      "source": [
        "!pip install qrcode\n",
        "!pip install pillow"
      ]
    },
    {
      "cell_type": "code",
      "source": [
        "import qrcode\n",
        "from PIL import Image\n",
        "# ERROR_CORRECT_L : About 7% or less errors can be corrected.\n",
        "# ERROR_CORRECT_M : About 15% or less errors can be corrected.\n",
        "# ERROR_CORRECT_Q : About 25% or less errors can be corrected.\n",
        "# ERROR_CORRECT_H : About 30% or less errors can be corrected.\n",
        "\n",
        "Degree = {\n",
        "    1: qrcode.constants.ERROR_CORRECT_L,\n",
        "    2: qrcode.constants.ERROR_CORRECT_M,\n",
        "    3: qrcode.constants.ERROR_CORRECT_Q,\n",
        "    4: qrcode.constants.ERROR_CORRECT_H,\n",
        "    }\n"
      ],
      "metadata": {
        "id": "0FgdCTU9kegv"
      },
      "execution_count": null,
      "outputs": []
    },
    {
      "cell_type": "markdown",
      "source": [
        "Selecting the data to add in QR code"
      ],
      "metadata": {
        "id": "bneHcXZbid0P"
      }
    },
    {
      "cell_type": "code",
      "source": [
        "data='https://github.com/Arshjot-singh'"
      ],
      "metadata": {
        "id": "ytRAomUgenio"
      },
      "execution_count": null,
      "outputs": []
    },
    {
      "cell_type": "code",
      "source": [
        "qr=qrcode.QRCode(version=1,\n",
        "                 error_correction=Degree[4],\n",
        "                 box_size=8,\n",
        "                 border=2)\n",
        "qr.add_data(data)\n",
        "qr.make(fit=True)"
      ],
      "metadata": {
        "id": "aCRE2Kxjesel"
      },
      "execution_count": null,
      "outputs": []
    },
    {
      "cell_type": "code",
      "source": [
        "qr_image=qr.make_image(fill_color='white',\n",
        "                       back_color='black')\n",
        "qr_image.show()"
      ],
      "metadata": {
        "colab": {
          "base_uri": "https://localhost:8080/",
          "height": 313
        },
        "id": "HqQNg2MYks2P",
        "outputId": "a639eb2a-fb2f-4929-b18f-44e0b8f6194c"
      },
      "execution_count": null,
      "outputs": [
        {
          "output_type": "display_data",
          "data": {
            "text/plain": [
              "<PIL.Image.Image image mode=RGB size=296x296 at 0x7FB1EC4D5000>"
            ],
            "image/png": "[encoded data removed]"
          },
          "metadata": {}
        }
      ]
    },
    {
      "cell_type": "code",
      "source": [
        "qr_image.save('Github Profile QR')"
      ],
      "metadata": {
        "id": "j8Y0ojYUmzlX"
      },
      "execution_count": null,
      "outputs": []
    },
    {
      "cell_type": "code",
      "source": [
        "Linkdin='https://www.linkedin.com/in/arshjot-singh-369809246/'"
      ],
      "metadata": {
        "id": "IKNcM84ur-gb"
      },
      "execution_count": null,
      "outputs": []
    },
    {
      "cell_type": "code",
      "source": [
        "qr1=qrcode.QRCode(version=1,\n",
        "                 error_correction=Degree[4],\n",
        "                 box_size=8,\n",
        "                 border=2)"
      ],
      "metadata": {
        "id": "dW1vbLaSsSH_"
      },
      "execution_count": null,
      "outputs": []
    },
    {
      "cell_type": "code",
      "source": [
        "qr1.add_data(Linkdin)\n",
        "qr1.make(fit=True)"
      ],
      "metadata": {
        "id": "zW5KogFhsC6q"
      },
      "execution_count": null,
      "outputs": []
    },
    {
      "cell_type": "code",
      "source": [
        "qr1=qr1.make_image(fill_color='blue',\n",
        "               back_color='white')\n",
        "qr1.show()"
      ],
      "metadata": {
        "colab": {
          "base_uri": "https://localhost:8080/",
          "height": 377
        },
        "id": "w-4EBo27sZlP",
        "outputId": "78087c46-c001-4d84-f576-61e44d631a3c"
      },
      "execution_count": null,
      "outputs": [
        {
          "output_type": "display_data",
          "data": {
            "text/plain": [
              "<PIL.Image.Image image mode=RGB size=360x360 at 0x7FB1EF726D70>"
            ],
            "image/png": "[encoded data removed]"
          },
          "metadata": {}
        }
      ]
    },
    {
      "cell_type": "code",
      "source": [
        "qr1.save('Linkdin Profile QR')"
      ],
      "metadata": {
        "id": "6re15neKuJe4"
      },
      "execution_count": null,
      "outputs": []
    }
  ]
}